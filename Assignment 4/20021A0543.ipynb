{
 "cells": [
  {
   "cell_type": "markdown",
   "metadata": {},
   "source": [
    "Name:Varanasi NagaSai Pranav Akhilesh\n",
    "Roll No: 20021A0543\n",
    "Non Recursive Quick Sort"
   ]
  },
  {
   "cell_type": "code",
   "execution_count": null,
   "metadata": {},
   "outputs": [],
   "source": [
    "import random\n",
    "\n",
    "def inplace_quick_sort(S, a, b):\n",
    "  if a >= b: return                                      \n",
    "  pivot = S[b]                                           \n",
    "  left = a                                               \n",
    "  right = b-1                                            \n",
    "  while left <= right:\n",
    "    while left <= right and S[left] < pivot:\n",
    "      left += 1\n",
    "    while left <= right and pivot < S[right]:\n",
    "      right -= 1\n",
    "    if left <= right:                                    \n",
    "      S[left], S[right] = S[right], S[left]              \n",
    "      left, right = left + 1, right - 1                  \n",
    "\n",
    "  \n",
    "  S[left], S[b] = S[b], S[left]\n",
    "  \n",
    "  inplace_quick_sort(S, a, left - 1)\n",
    "  inplace_quick_sort(S, left + 1, b)\n",
    "  return left\n",
    "  \n",
    "\n",
    "def inplace_quick_sort_nonrecursive(S):\n",
    "    stack = []                \n",
    "    a = 0                             \n",
    "    b = len(S) - 1\n",
    "    pivot = S[b]\n",
    " \n",
    "    stack.append((a, b))              \n",
    "\n",
    "    while len(stack) > 0:                      \n",
    "      a, b = stack.pop()              \n",
    "      pivot = inplace_quick_sort(S, a, b)           \n",
    "      if pivot - 1 > a:              \n",
    "        stack.append((a, pivot - 1))\n",
    "      if pivot + 1 < b:               \n",
    "        stack.append((pivot + 1, b))\n",
    "\n",
    "\n",
    "origList = random.sample(range(100), 100)\n",
    "origList2 = random.sample(range(100), 100)\n",
    "origList.extend(origList2)\n",
    "inplace_quick_sort_nonrecursive(origList)\n",
    "\n",
    "errorIndices = []\n",
    "for i in range(100):\n",
    "  ind1 = 2*i\n",
    "  ind2 = ind1+1\n",
    "  if origList[ind1] != i:\n",
    "    errorIndices.append(ind1)\n",
    "  if origList[ind2] != i:\n",
    "    errorIndices.append(ind2)\n",
    "if len(errorIndices) == 0:\n",
    "  print(\"PASSED\")\n",
    "else:\n",
    "  print(\"Error in indices: \" + str(errorIndices))\n"
   ]
  }
 ],
 "metadata": {
  "kernelspec": {
   "display_name": "Python 3.10.5 64-bit (windows store)",
   "language": "python",
   "name": "python3"
  },
  "language_info": {
   "name": "python",
   "version": "3.10.5"
  },
  "orig_nbformat": 4,
  "vscode": {
   "interpreter": {
    "hash": "ba37d69516b96b2df66115ef342e83722e1a1518f5d2e0ee41eb08141fa2fe2a"
   }
  }
 },
 "nbformat": 4,
 "nbformat_minor": 2
}
